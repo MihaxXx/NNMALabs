{
 "cells": [
  {
   "cell_type": "code",
   "execution_count": 24,
   "id": "c1d9c4c4",
   "metadata": {},
   "outputs": [
    {
     "name": "stderr",
     "output_type": "stream",
     "text": [
      "Using cache found in /Users/mikhail/.cache/torch/hub/pytorch_vision_main\n"
     ]
    }
   ],
   "source": [
    "import torch\n",
    "\n",
    "# Option 1: passing weights param as string\n",
    "model = torch.hub.load(\"pytorch/vision\", \"resnet50\", weights=\"IMAGENET1K_V2\")"
   ]
  },
  {
   "cell_type": "code",
   "execution_count": 25,
   "id": "4c21f67b",
   "metadata": {},
   "outputs": [],
   "source": [
    "import torchvision\n",
    "\n",
    "model.eval()\n",
    "\n",
    "# Trace the model with random data.\n",
    "example_input = torch.rand(1, 3, 224, 224) \n",
    "traced_model = torch.jit.trace(model, example_input)\n",
    "out = traced_model(example_input)"
   ]
  },
  {
   "cell_type": "code",
   "execution_count": 26,
   "id": "e5d48a14",
   "metadata": {},
   "outputs": [],
   "source": [
    "# Download class labels in ImageNetLabel.txt.\n",
    "import urllib\n",
    "label_url = 'https://storage.googleapis.com/download.tensorflow.org/data/ImageNetLabels.txt'\n",
    "class_labels = urllib.request.urlopen(label_url).read().decode(\"utf-8\").splitlines()\n",
    "class_labels = class_labels[1:] # remove the first class which is background\n",
    "assert len(class_labels) == 1000"
   ]
  },
  {
   "cell_type": "code",
   "execution_count": 27,
   "id": "b8ab132e",
   "metadata": {},
   "outputs": [],
   "source": [
    "# Set the image scale and bias for input image preprocessing.\n",
    "import coremltools as ct\n",
    "scale = 1/(0.226*255.0)\n",
    "bias = [- 0.485/(0.229) , - 0.456/(0.224), - 0.406/(0.225)]\n",
    "\n",
    "image_input = ct.ImageType(name=\"input_1\",\n",
    "                           shape=example_input.shape,\n",
    "                           scale=scale, bias=bias)"
   ]
  },
  {
   "cell_type": "code",
   "execution_count": 28,
   "id": "0f7c1b90",
   "metadata": {},
   "outputs": [
    {
     "name": "stderr",
     "output_type": "stream",
     "text": [
      "Converting Frontend ==> MIL Ops: 100%|████▉| 440/441 [00:00<00:00, 784.68 ops/s]\n",
      "Running MIL Common passes: 100%|███████████| 34/34 [00:01<00:00, 23.61 passes/s]\n",
      "Running MIL Clean up passes: 100%|███████████| 9/9 [00:00<00:00, 28.72 passes/s]\n",
      "Translating MIL ==> NeuralNetwork Ops: 100%|█| 455/455 [00:03<00:00, 134.80 ops/\n"
     ]
    }
   ],
   "source": [
    "# Using image_input in the inputs parameter:\n",
    "# Convert to Core ML using the Unified Conversion API.\n",
    "model = ct.convert(\n",
    "    traced_model,\n",
    "    inputs=[image_input],\n",
    "    classifier_config = ct.ClassifierConfig(class_labels),\n",
    "    compute_units=ct.ComputeUnit.CPU_ONLY,\n",
    ")"
   ]
  },
  {
   "cell_type": "code",
   "execution_count": 30,
   "id": "20197946",
   "metadata": {},
   "outputs": [
    {
     "name": "stdout",
     "output_type": "stream",
     "text": [
      "model converted and saved\n"
     ]
    }
   ],
   "source": [
    "# Save the converted model.\n",
    "model.save(\"resnet50.mlmodel\")\n",
    "# Print a confirmation message.\n",
    "print('model converted and saved')"
   ]
  },
  {
   "cell_type": "code",
   "execution_count": 32,
   "id": "ed52f100",
   "metadata": {},
   "outputs": [],
   "source": [
    "# Load the test image and resize to 224, 224.\n",
    "img_path = \"panda.jpg\"\n",
    "img = PIL.Image.open(img_path)\n",
    "img = img.resize([224, 224], PIL.Image.ANTIALIAS)"
   ]
  },
  {
   "cell_type": "code",
   "execution_count": 33,
   "id": "31c0c676",
   "metadata": {},
   "outputs": [],
   "source": [
    "# Get the protobuf spec of the model.\n",
    "spec = model.get_spec()\n",
    "for out in spec.description.output:\n",
    "    if out.type.WhichOneof('Type') == \"dictionaryType\":\n",
    "        coreml_dict_name = out.name\n",
    "        break"
   ]
  },
  {
   "cell_type": "code",
   "execution_count": 35,
   "id": "30fa72af",
   "metadata": {},
   "outputs": [
    {
     "name": "stdout",
     "output_type": "stream",
     "text": [
      "coreml predictions: \n",
      "top class label:  giant panda\n",
      "class name: giant panda, raw score value: 6.912057399749756\n",
      "class name: ram, raw score value: 1.781463623046875\n",
      "class name: lesser panda, raw score value: 1.6441527605056763\n"
     ]
    }
   ],
   "source": [
    "import numpy as np\n",
    "\n",
    "# Make a prediction with the Core ML version of the model.\n",
    "coreml_out_dict = model.predict({\"input_1\" : img})\n",
    "print(\"coreml predictions: \")\n",
    "print(\"top class label: \", coreml_out_dict[\"classLabel\"])\n",
    "\n",
    "coreml_prob_dict = coreml_out_dict[coreml_dict_name]\n",
    "\n",
    "values_vector = np.array(list(coreml_prob_dict.values()))\n",
    "keys_vector = list(coreml_prob_dict.keys())\n",
    "top_3_indices_coreml = np.argsort(-values_vector)[:3]\n",
    "for i in range(3):\n",
    "    idx = top_3_indices_coreml[i]\n",
    "    score_value = values_vector[idx]\n",
    "    class_id = keys_vector[idx]\n",
    "    print(\"class name: {}, raw score value: {}\".format(class_id, score_value))"
   ]
  },
  {
   "cell_type": "markdown",
   "id": "095d18a4",
   "metadata": {},
   "source": [
    "### Make a PyTorch prediction and compare"
   ]
  },
  {
   "cell_type": "code",
   "execution_count": 36,
   "id": "4b0c11ec",
   "metadata": {},
   "outputs": [],
   "source": [
    "# Make a prediction with the Torch version of the model:\n",
    "# prepare the input numpy array.\n",
    "img_np = np.asarray(img).astype(np.float32) # (224, 224, 3)\n",
    "img_np = img_np[np.newaxis, :, :, :] # (1, 224, 224, 3)\n",
    "img_np = np.transpose(img_np, [0, 3, 1, 2]) # (1, 3, 224, 224)\n",
    "img_np = img_np / 255.0\n",
    "torch_tensor_input = torch.from_numpy(img_np)"
   ]
  },
  {
   "cell_type": "code",
   "execution_count": 37,
   "id": "0a511d19",
   "metadata": {},
   "outputs": [],
   "source": [
    "# Preprocess model for Torch.\n",
    "transform_model = torch.nn.Sequential(\n",
    "    torchvision.transforms.Normalize(mean=(0.485, 0.456, 0.406),\n",
    "                                     std=(0.229, 0.224, 0.225)),\n",
    ")"
   ]
  },
  {
   "cell_type": "code",
   "execution_count": 38,
   "id": "51ed85b8",
   "metadata": {},
   "outputs": [
    {
     "name": "stdout",
     "output_type": "stream",
     "text": [
      "torch top 3 predictions: \n",
      "class name: giant panda, raw score value: 6.86653995513916\n",
      "class name: ram, raw score value: 1.7364037036895752\n",
      "class name: lesser panda, raw score value: 1.59848153591156\n"
     ]
    }
   ],
   "source": [
    "# Invoke prediction and print outputs.\n",
    "torch_out = traced_model(transform_model(torch_tensor_input))\n",
    "\n",
    "torch_out_np = torch_out.detach().numpy().squeeze()\n",
    "top_3_indices = np.argsort(-torch_out_np)[:3]\n",
    "print('torch top 3 predictions: ')\n",
    "for i in range(3):\n",
    "    idx = top_3_indices[i]\n",
    "    score_value = torch_out_np[idx]\n",
    "    class_id = class_labels[idx]\n",
    "    print(\"class name: {}, raw score value: {}\".format(class_id, score_value))"
   ]
  },
  {
   "cell_type": "markdown",
   "id": "099b40f8",
   "metadata": {},
   "source": [
    "# Yolo"
   ]
  },
  {
   "cell_type": "code",
   "execution_count": 44,
   "id": "54596a88",
   "metadata": {},
   "outputs": [
    {
     "name": "stderr",
     "output_type": "stream",
     "text": [
      "Using cache found in /Users/mikhail/.cache/torch/hub/ultralytics_yolov5_master\n",
      "INFO:yolov5:YOLOv5 🚀 2022-9-19 Python-3.9.12 torch-1.12.1 CPU\n",
      "\n",
      "YOLOv5 🚀 2022-9-19 Python-3.9.12 torch-1.12.1 CPU\n",
      "\n",
      "INFO:yolov5:Loading /Users/mikhail/Projects/NNMALabs/NNMALab00.2/yolov5s.mlmodel for CoreML inference...\n",
      "Loading /Users/mikhail/Projects/NNMALabs/NNMALab00.2/yolov5s.mlmodel for CoreML inference...\n",
      "INFO:yolov5:Adding AutoShape... \n",
      "Adding AutoShape... \n"
     ]
    }
   ],
   "source": [
    "# Model\n",
    "model = torch.hub.load('ultralytics/yolov5', 'custom', path='/Users/mikhail/Projects/NNMALabs/NNMALab00.2/yolov5s.mlmodel')  # local model"
   ]
  },
  {
   "cell_type": "code",
   "execution_count": null,
   "id": "eb7d7b3a",
   "metadata": {},
   "outputs": [],
   "source": []
  },
  {
   "cell_type": "code",
   "execution_count": null,
   "id": "5a00f566",
   "metadata": {},
   "outputs": [],
   "source": []
  }
 ],
 "metadata": {
  "kernelspec": {
   "display_name": "Python 3 (ipykernel)",
   "language": "python",
   "name": "python3"
  },
  "language_info": {
   "codemirror_mode": {
    "name": "ipython",
    "version": 3
   },
   "file_extension": ".py",
   "mimetype": "text/x-python",
   "name": "python",
   "nbconvert_exporter": "python",
   "pygments_lexer": "ipython3",
   "version": "3.9.12"
  }
 },
 "nbformat": 4,
 "nbformat_minor": 5
}
