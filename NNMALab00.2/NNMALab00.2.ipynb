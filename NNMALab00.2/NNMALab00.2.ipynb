{
 "cells": [
  {
   "cell_type": "code",
   "execution_count": 1,
   "id": "7db15c7b",
   "metadata": {},
   "outputs": [
    {
     "name": "stderr",
     "output_type": "stream",
     "text": [
      "Using cache found in /Users/mikhail/.cache/torch/hub/ultralytics_yolov5_master\n",
      "YOLOv5 🚀 2022-9-19 Python-3.9.12 torch-1.12.1 CPU\n",
      "\n",
      "Downloading https://github.com/ultralytics/yolov5/releases/download/v6.2/yolov5s.pt to yolov5s.pt...\n"
     ]
    },
    {
     "data": {
      "application/vnd.jupyter.widget-view+json": {
       "model_id": "7bcc494aab14495a9ffc9bdfdf41eb0c",
       "version_major": 2,
       "version_minor": 0
      },
      "text/plain": [
       "  0%|          | 0.00/14.1M [00:00<?, ?B/s]"
      ]
     },
     "metadata": {},
     "output_type": "display_data"
    },
    {
     "name": "stderr",
     "output_type": "stream",
     "text": [
      "\n",
      "Fusing layers... \n",
      "[W NNPACK.cpp:51] Could not initialize NNPACK! Reason: Unsupported hardware.\n",
      "YOLOv5s summary: 213 layers, 7225885 parameters, 0 gradients\n",
      "Adding AutoShape... \n"
     ]
    }
   ],
   "source": [
    "import torch\n",
    "\n",
    "# Model\n",
    "model = torch.hub.load('ultralytics/yolov5', 'yolov5s')\n",
    "\n",
    "# Image\n",
    "img = 'https://ultralytics.com/images/zidane.jpg'\n",
    "\n",
    "# Inference\n",
    "results = model(img)"
   ]
  },
  {
   "cell_type": "code",
   "execution_count": 2,
   "id": "89242de9",
   "metadata": {},
   "outputs": [
    {
     "name": "stderr",
     "output_type": "stream",
     "text": [
      "image 1/1: 720x1280 2 persons, 2 ties\n",
      "Speed: 2000.9ms pre-process, 457.4ms inference, 17.1ms NMS per image at shape (1, 3, 384, 640)\n"
     ]
    }
   ],
   "source": [
    "results.print()"
   ]
  },
  {
   "cell_type": "code",
   "execution_count": 4,
   "id": "abc3a9b5",
   "metadata": {},
   "outputs": [
    {
     "name": "stderr",
     "output_type": "stream",
     "text": [
      "image 1/1: 613x696 1 bear\n",
      "Speed: 58.7ms pre-process, 504.6ms inference, 2.4ms NMS per image at shape (1, 3, 576, 640)\n"
     ]
    }
   ],
   "source": [
    "# Image\n",
    "img = 'panda.jpg'\n",
    "\n",
    "# Inference\n",
    "results = model(img)\n",
    "results.print()"
   ]
  },
  {
   "cell_type": "code",
   "execution_count": 5,
   "id": "cd892008",
   "metadata": {},
   "outputs": [],
   "source": [
    "results.show()"
   ]
  },
  {
   "cell_type": "code",
   "execution_count": 13,
   "id": "d5117284",
   "metadata": {},
   "outputs": [
    {
     "name": "stdout",
     "output_type": "stream",
     "text": [
      "Traceback (most recent call last):\r\n",
      "  File \"/Users/mikhail/Projects/NNMALabs/NNMALab00.2/yolov5/export.py\", line 69, in <module>\r\n",
      "    from models.yolo import ClassificationModel, Detect, DetectionModel, SegmentationModel\r\n",
      "  File \"/Users/mikhail/Projects/NNMALabs/NNMALab00.2/yolov5/models/yolo.py\", line 24, in <module>\r\n",
      "    from models.common import *\r\n",
      "  File \"/Users/mikhail/Projects/NNMALabs/NNMALab00.2/yolov5/models/common.py\", line 14, in <module>\r\n",
      "    import cv2\r\n",
      "ModuleNotFoundError: No module named 'cv2'\r\n"
     ]
    }
   ],
   "source": [
    "!OMP_NUM_THREADS=1 KMP_DUPLICATE_LIB_OK=TRUE python3 yolov5/export.py --weights yolov5s.pt --img 640 --batch 1 --include ONNX coreML # export at 640x640 with batch size 1"
   ]
  },
  {
   "cell_type": "code",
   "execution_count": 12,
   "id": "8f397a29",
   "metadata": {},
   "outputs": [
    {
     "name": "stderr",
     "output_type": "stream",
     "text": [
      "Using cache found in /Users/mikhail/.cache/torch/hub/ultralytics_yolov5_master\n",
      "YOLOv5 🚀 2022-9-19 Python-3.9.12 torch-1.12.1 CPU\n",
      "\n",
      "Loading yolov5s.torchscript for TorchScript inference...\n",
      "Adding AutoShape... \n"
     ]
    }
   ],
   "source": [
    "model = torch.hub.load('ultralytics/yolov5', 'custom', path='yolov5s.torchscript')  # local model"
   ]
  },
  {
   "cell_type": "code",
   "execution_count": 13,
   "id": "8afa1cbd",
   "metadata": {},
   "outputs": [
    {
     "name": "stderr",
     "output_type": "stream",
     "text": [
      "image 1/1: 613x696 1 bear\n",
      "Speed: 28.6ms pre-process, 800.0ms inference, 3.0ms NMS per image at shape (1, 3, 640, 640)\n"
     ]
    }
   ],
   "source": [
    "# Image\n",
    "img = 'panda.jpg'\n",
    "\n",
    "# Inference\n",
    "results = model(img)\n",
    "results.print()"
   ]
  },
  {
   "cell_type": "code",
   "execution_count": 14,
   "id": "74eb3732",
   "metadata": {},
   "outputs": [],
   "source": [
    "results.show()"
   ]
  },
  {
   "cell_type": "code",
   "execution_count": null,
   "id": "e761566d",
   "metadata": {},
   "outputs": [],
   "source": []
  }
 ],
 "metadata": {
  "kernelspec": {
   "display_name": "Python 3 (ipykernel)",
   "language": "python",
   "name": "python3"
  },
  "language_info": {
   "codemirror_mode": {
    "name": "ipython",
    "version": 3
   },
   "file_extension": ".py",
   "mimetype": "text/x-python",
   "name": "python",
   "nbconvert_exporter": "python",
   "pygments_lexer": "ipython3",
   "version": "3.9.12"
  }
 },
 "nbformat": 4,
 "nbformat_minor": 5
}
